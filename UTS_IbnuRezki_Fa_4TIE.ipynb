{
  "cells": [
    {
      "cell_type": "markdown",
      "metadata": {
        "id": "view-in-github",
        "colab_type": "text"
      },
      "source": [
        "<a href=\"https://colab.research.google.com/github/GenkiAkura/ProjekCV/blob/main/UTS_IbnuRezki_Fa_4TIE.ipynb\" target=\"_parent\"><img src=\"https://colab.research.google.com/assets/colab-badge.svg\" alt=\"Open In Colab\"/></a>"
      ]
    },
    {
      "cell_type": "code",
      "execution_count": null,
      "metadata": {
        "id": "45SYVYj3IJAP"
      },
      "outputs": [],
      "source": [
        "!pip install ultralytics flask pyngrok opencv-python-headless --quiet\n",
        "# Menginstall pustaka Python yang diperlukan seperti ultralytics, flask, pyngrok, dan opencv-python-headless menggunakan pip, dengan flag --quiet untuk menyembunyikan output detail.\n",
        "\n",
        "from ultralytics import YOLO\n",
        "# Mengimpor kelas YOLO dari pustaka ultralytics untuk penggunaan model deteksi objek.\n",
        "\n",
        "import cv2\n",
        "# Mengimpor pustaka OpenCV (cv2) untuk pemrosesan gambar dan video.\n",
        "\n",
        "import numpy as np\n",
        "# Mengimpor pustaka NumPy sebagai np untuk operasi numerik dan array.\n",
        "\n",
        "import os\n",
        "# Mengimpor pustaka os untuk berinteraksi dengan sistem operasi, seperti mengelola file dan direktori.\n",
        "\n",
        "from pyngrok import ngrok\n",
        "# Mengimpor modul ngrok dari pustaka pyngrok untuk membuat terowongan aman ke aplikasi lokal."
      ]
    },
    {
      "cell_type": "code",
      "execution_count": null,
      "metadata": {
        "id": "jgaEGnMf_UFh"
      },
      "outputs": [],
      "source": [
        "!pip install flask pyngrok --quiet\n"
      ]
    },
    {
      "cell_type": "code",
      "execution_count": null,
      "metadata": {
        "id": "IQW4DxUCUERx"
      },
      "outputs": [],
      "source": [
        "# Fungsi untuk memproses gambar\n",
        "def process_image(image_path, output_path):\n",
        "    # Membaca gambar dari path yang diberikan menggunakan OpenCV\n",
        "    img = cv2.imread(image_path)\n",
        "    # Mengonversi warna gambar dari BGR ke RGB\n",
        "    img = cv2.cvtColor(img, cv2.COLOR_BGR2RGB)\n",
        "\n",
        "    # Melakukan deteksi objek pada gambar menggunakan model\n",
        "    results = model(image_path)\n",
        "\n",
        "    # Iterasi melalui setiap hasil deteksi\n",
        "    for result in results:\n",
        "        boxes = result.boxes\n",
        "        # Iterasi melalui setiap kotak deteksi\n",
        "        for box in boxes:\n",
        "            x1, y1, x2, y2 = map(int, box.xyxy[0])\n",
        "            # Mendapatkan nilai kepercayaan (confidence) dari deteksi\n",
        "            confidence = box.conf[0].item()\n",
        "            # Mendapatkan ID kelas dari deteksi\n",
        "            class_id = int(box.cls[0].item())\n",
        "            # Mendapatkan label berdasarkan ID kelas dari model\n",
        "            label = model.names[class_id]\n",
        "\n",
        "            # Memeriksa jika label adalah 'bird'\n",
        "            if label == 'bird':\n",
        "                # Menggambar kotak persegi panjang di sekitar objek yang terdeteksi\n",
        "                cv2.rectangle(img, (x1, y1), (x2, y2), (0, 255, 0), 2)\n",
        "                # Menambahkan teks label dan kepercayaan di atas kotak\n",
        "                cv2.putText(img, f'{label} {confidence:.2f}', (x1, y1 - 10),\n",
        "                           cv2.FONT_HERSHEY_SIMPLEX, 0.5, (0, 255, 0), 2)\n",
        "\n",
        "    # Menyimpan gambar yang telah diproses ke path output dengan konversi kembali ke BGR\n",
        "    cv2.imwrite(output_path, cv2.cvtColor(img, cv2.COLOR_RGB2BGR))\n",
        "    # Mengembalikan path gambar yang telah diproses\n",
        "    return output_path"
      ]
    },
    {
      "cell_type": "code",
      "execution_count": null,
      "metadata": {
        "id": "B1DRJ73mUOuO"
      },
      "outputs": [],
      "source": [
        "# Fungsi untuk memproses video\n",
        "def process_video(video_path, output_path):\n",
        "    # Membuka video dari path yang diberikan menggunakan OpenCV\n",
        "    cap = cv2.VideoCapture(video_path)\n",
        "    # Mendapatkan lebar frame dari video\n",
        "    frame_width = int(cap.get(cv2.CAP_PROP_FRAME_WIDTH))\n",
        "    # Mendapatkan tinggi frame dari video\n",
        "    frame_height = int(cap.get(cv2.CAP_PROP_FRAME_HEIGHT))\n",
        "    # Mendapatkan frame rate (FPS) dari video\n",
        "    fps = cap.get(cv2.CAP_PROP_FPS)\n",
        "\n",
        "    # Mengatur codec video untuk output (mp4v)\n",
        "    fourcc = cv2.VideoWriter_fourcc(*'mp4v')\n",
        "    # Membuat objek VideoWriter untuk menyimpan video yang telah diproses\n",
        "    out = cv2.VideoWriter(output_path, fourcc, fps, (frame_width, frame_height))\n",
        "\n",
        "    # Memproses video frame demi frame selama video masih terbuka\n",
        "    while cap.isOpened():\n",
        "        ret, frame = cap.read()\n",
        "        # Menghentikan loop jika tidak ada frame lagi\n",
        "        if not ret:\n",
        "            break\n",
        "\n",
        "        # Melakukan deteksi objek pada frame menggunakan model\n",
        "        results = model(frame)\n",
        "\n",
        "        # Iterasi melalui setiap hasil deteksi\n",
        "        for r in results:\n",
        "            for box in r.boxes:\n",
        "                cls = int(box.cls[0])\n",
        "                # Mendapatkan label berdasarkan ID kelas dari model\n",
        "                label = model.names[cls]\n",
        "                # Memeriksa jika label adalah 'bird'\n",
        "                if label == 'bird':\n",
        "                    x1, y1, x2, y2 = map(int, box.xyxy[0])\n",
        "                    conf = float(box.conf[0])\n",
        "                    # Menggambar kotak persegi panjang di sekitar objek yang terdeteksi\n",
        "                    cv2.rectangle(frame, (x1, y1), (x2, y2), (0, 255, 0), 2)\n",
        "                    # Menambahkan teks label dan kepercayaan di atas kotak\n",
        "                    cv2.putText(frame, f'{label} {conf:.2f}', (x1, y1 - 10),\n",
        "                               cv2.FONT_HERSHEY_SIMPLEX, 0.6, (0, 255, 0), 2)\n",
        "\n",
        "        # Menulis frame yang telah diproses ke file output\n",
        "        out.write(frame)\n",
        "\n",
        "    # Melepaskan objek VideoCapture\n",
        "    cap.release()\n",
        "    # Melepaskan objek VideoWriter\n",
        "    out.release()\n",
        "    # Mengembalikan path video yang telah diproses\n",
        "    return output_path"
      ]
    },
    {
      "cell_type": "code",
      "execution_count": null,
      "metadata": {
        "id": "nJSgBIYyB1ZV"
      },
      "outputs": [],
      "source": [
        "!wget -q https://github.com/cloudflare/cloudflared/releases/latest/download/cloudflared-linux-amd64 -O cloudflared\n",
        "!chmod +x cloudflared\n"
      ]
    },
    {
      "cell_type": "code",
      "execution_count": null,
      "metadata": {
        "id": "QufTdJ0EUQWI"
      },
      "outputs": [],
      "source": [
        "from flask import Flask, request, render_template_string, send_file\n",
        "import os\n",
        "from threading import Thread\n",
        "from ultralytics import YOLO\n",
        "\n",
        "app = Flask(__name__)\n",
        "\n",
        "# Load model YOLOv8\n",
        "model = YOLO(\"yolov8n.pt\")  # Gunakan model custom jika ada\n",
        "\n",
        "HTML_TEMPLATE = \"\"\"\n",
        "<!DOCTYPE html><html><body>\n",
        "<h2>YOLOv8 Bird Detector</h2>\n",
        "<form method=\"post\" enctype=\"multipart/form-data\">\n",
        "    <input type=\"file\" name=\"file\"><br><br>\n",
        "    <button type=\"submit\">Deteksi</button>\n",
        "</form>\n",
        "{% if error %}<p style=\"color:red;\">{{ error }}</p>{% endif %}\n",
        "{% if output_path %}\n",
        "    {% if is_image %}\n",
        "        <img src=\"{{ output_path }}\" width=\"400\">\n",
        "    {% else %}\n",
        "        <video width=\"400\" controls><source src=\"{{ output_path }}\" type=\"video/mp4\"></video>\n",
        "    {% endif %}\n",
        "    <p><a href=\"{{ output_path }}\" download>Unduh Hasil</a></p>\n",
        "{% endif %}\n",
        "</body></html>\n",
        "\"\"\"\n",
        "\n",
        "def process_image(input_path, output_path):\n",
        "    # Hanya deteksi class 'bird' (COCO ID 14)\n",
        "    results = model(input_path, classes=[14])\n",
        "\n",
        "    # Cek apakah burung terdeteksi\n",
        "    if results[0].boxes is None or len(results[0].boxes.cls) == 0:\n",
        "        raise ValueError(\"Tidak ada burung yang terdeteksi.\")\n",
        "\n",
        "    # Simpan hasil deteksi ke file\n",
        "    results[0].save(filename=output_path)\n",
        "\n",
        "def process_video(input_path, output_path):\n",
        "    # Deteksi hanya 'bird' class (class_id 14)\n",
        "    results = model.predict(source=input_path, save=True, classes=[14])\n",
        "\n",
        "    # Cari file hasil dari folder YOLO\n",
        "    pred_dir = 'runs/detect/predict'\n",
        "    for file in os.listdir(pred_dir):\n",
        "        if file.endswith(\".mp4\"):\n",
        "            os.rename(os.path.join(pred_dir, file), output_path)\n",
        "            break\n",
        "    else:\n",
        "        raise ValueError(\"Tidak ada burung yang terdeteksi di video.\")\n",
        "\n",
        "@app.route('/', methods=['GET', 'POST'])\n",
        "def index():\n",
        "    if request.method == 'POST':\n",
        "        file = request.files.get('file')\n",
        "        if not file or file.filename == '':\n",
        "            return render_template_string(HTML_TEMPLATE, error=\"File tidak ditemukan\")\n",
        "        ext = file.filename.lower().split('.')[-1]\n",
        "        if ext not in ['jpg', 'jpeg', 'png', 'mp4']:\n",
        "            return render_template_string(HTML_TEMPLATE, error=\"Format tidak didukung\")\n",
        "\n",
        "        # Buat folder jika belum ada\n",
        "        os.makedirs('static/uploads', exist_ok=True)\n",
        "        os.makedirs('static/outputs', exist_ok=True)\n",
        "\n",
        "        input_path = f'static/uploads/{file.filename}'\n",
        "        output_path = f'static/outputs/output_{file.filename}'\n",
        "        file.save(input_path)\n",
        "        is_image = ext in ['jpg', 'jpeg', 'png']\n",
        "\n",
        "        try:\n",
        "            if is_image:\n",
        "                process_image(input_path, output_path)\n",
        "            else:\n",
        "                process_video(input_path, output_path)\n",
        "        except Exception as e:\n",
        "            return render_template_string(HTML_TEMPLATE, error=f\"Error: {str(e)}\")\n",
        "\n",
        "        return render_template_string(HTML_TEMPLATE, output_path='/' + output_path, is_image=is_image)\n",
        "\n",
        "    return render_template_string(HTML_TEMPLATE)\n",
        "\n",
        "@app.route('/static/<path:filename>')\n",
        "def serve_static(filename):\n",
        "    return send_file(os.path.join('static', filename))\n",
        "\n",
        "# Jalankan Flask\n",
        "def run():\n",
        "    app.run(host='0.0.0.0', port=5000)\n",
        "\n",
        "Thread(target=run).start()\n"
      ]
    },
    {
      "cell_type": "code",
      "execution_count": null,
      "metadata": {
        "colab": {
          "background_save": true,
          "base_uri": "https://localhost:8080/"
        },
        "id": "AYGxqVAGABxZ",
        "outputId": "8da3de42-1429-4125-f773-a9f2196b552d"
      },
      "outputs": [
        {
          "metadata": {
            "tags": null
          },
          "name": "stdout",
          "output_type": "stream",
          "text": [
            " * Debug mode: off\n"
          ]
        },
        {
          "metadata": {
            "tags": null
          },
          "name": "stderr",
          "output_type": "stream",
          "text": [
            "INFO:werkzeug:\u001b[31m\u001b[1mWARNING: This is a development server. Do not use it in a production deployment. Use a production WSGI server instead.\u001b[0m\n",
            " * Running on all addresses (0.0.0.0)\n",
            " * Running on http://127.0.0.1:5000\n",
            " * Running on http://172.28.0.12:5000\n",
            "INFO:werkzeug:\u001b[33mPress CTRL+C to quit\u001b[0m\n"
          ]
        },
        {
          "metadata": {
            "tags": null
          },
          "name": "stdout",
          "output_type": "stream",
          "text": [
            "\u001b[90m2025-07-03T02:39:24Z\u001b[0m \u001b[32mINF\u001b[0m Thank you for trying Cloudflare Tunnel. Doing so, without a Cloudflare account, is a quick way to experiment and try it out. However, be aware that these account-less Tunnels have no uptime guarantee, are subject to the Cloudflare Online Services Terms of Use (https://www.cloudflare.com/website-terms/), and Cloudflare reserves the right to investigate your use of Tunnels for violations of such terms. If you intend to use Tunnels in production you should use a pre-created named tunnel by following: https://developers.cloudflare.com/cloudflare-one/connections/connect-apps\n",
            "\u001b[90m2025-07-03T02:39:24Z\u001b[0m \u001b[32mINF\u001b[0m Requesting new quick Tunnel on trycloudflare.com...\n",
            "\u001b[90m2025-07-03T02:39:27Z\u001b[0m \u001b[32mINF\u001b[0m +--------------------------------------------------------------------------------------------+\n",
            "\u001b[90m2025-07-03T02:39:27Z\u001b[0m \u001b[32mINF\u001b[0m |  Your quick Tunnel has been created! Visit it at (it may take some time to be reachable):  |\n",
            "\u001b[90m2025-07-03T02:39:27Z\u001b[0m \u001b[32mINF\u001b[0m |  https://brazilian-spice-dna-instantly.trycloudflare.com                                   |\n",
            "\u001b[90m2025-07-03T02:39:27Z\u001b[0m \u001b[32mINF\u001b[0m +--------------------------------------------------------------------------------------------+\n",
            "\u001b[90m2025-07-03T02:39:27Z\u001b[0m \u001b[32mINF\u001b[0m Cannot determine default configuration path. No file [config.yml config.yaml] in [~/.cloudflared ~/.cloudflare-warp ~/cloudflare-warp /etc/cloudflared /usr/local/etc/cloudflared]\n",
            "\u001b[90m2025-07-03T02:39:27Z\u001b[0m \u001b[32mINF\u001b[0m Version 2025.6.1 (Checksum 103ff020ffcc4ad6b542948b95ecff417150c70a17bff3a39ac2670b4159c9bb)\n",
            "\u001b[90m2025-07-03T02:39:27Z\u001b[0m \u001b[32mINF\u001b[0m GOOS: linux, GOVersion: go1.24.2, GoArch: amd64\n",
            "\u001b[90m2025-07-03T02:39:27Z\u001b[0m \u001b[32mINF\u001b[0m Settings: map[ha-connections:1 protocol:quic url:http://localhost:5000]\n",
            "\u001b[90m2025-07-03T02:39:27Z\u001b[0m \u001b[32mINF\u001b[0m cloudflared will not automatically update when run from the shell. To enable auto-updates, run cloudflared as a service: https://developers.cloudflare.com/cloudflare-one/connections/connect-apps/configure-tunnels/local-management/as-a-service/\n",
            "\u001b[90m2025-07-03T02:39:27Z\u001b[0m \u001b[32mINF\u001b[0m Generated Connector ID: 8312af46-5be0-4552-b5ee-ad7c5963e6ee\n",
            "\u001b[90m2025-07-03T02:39:27Z\u001b[0m \u001b[32mINF\u001b[0m Initial protocol quic\n",
            "\u001b[90m2025-07-03T02:39:27Z\u001b[0m \u001b[32mINF\u001b[0m ICMP proxy will use 172.28.0.12 as source for IPv4\n",
            "\u001b[90m2025-07-03T02:39:27Z\u001b[0m \u001b[32mINF\u001b[0m ICMP proxy will use :: as source for IPv6\n",
            "\u001b[90m2025-07-03T02:39:27Z\u001b[0m \u001b[32mINF\u001b[0m ICMP proxy will use 172.28.0.12 as source for IPv4\n",
            "\u001b[90m2025-07-03T02:39:27Z\u001b[0m \u001b[32mINF\u001b[0m ICMP proxy will use :: as source for IPv6\n",
            "\u001b[90m2025-07-03T02:39:27Z\u001b[0m \u001b[32mINF\u001b[0m Starting metrics server on 127.0.0.1:20241/metrics\n",
            "\u001b[90m2025-07-03T02:39:27Z\u001b[0m \u001b[32mINF\u001b[0m Tunnel connection curve preferences: [X25519MLKEM768 CurveID(25497) CurveP256] \u001b[36mconnIndex=\u001b[0m0 \u001b[36mevent=\u001b[0m0 \u001b[36mip=\u001b[0m198.41.200.33\n",
            "2025/07/03 02:39:27 failed to sufficiently increase receive buffer size (was: 208 kiB, wanted: 7168 kiB, got: 416 kiB). See https://github.com/quic-go/quic-go/wiki/UDP-Buffer-Sizes for details.\n",
            "\u001b[90m2025-07-03T02:39:27Z\u001b[0m \u001b[32mINF\u001b[0m Registered tunnel connection \u001b[36mconnIndex=\u001b[0m0 \u001b[36mconnection=\u001b[0m3ab3b1df-a7ab-4288-901b-72123484186c \u001b[36mevent=\u001b[0m0 \u001b[36mip=\u001b[0m198.41.200.33 \u001b[36mlocation=\u001b[0msea08 \u001b[36mprotocol=\u001b[0mquic\n"
          ]
        },
        {
          "output_type": "stream",
          "name": "stderr",
          "text": [
            "INFO:werkzeug:127.0.0.1 - - [03/Jul/2025 04:08:22] \"GET / HTTP/1.1\" 200 -\n",
            "INFO:werkzeug:127.0.0.1 - - [03/Jul/2025 04:08:23] \"\u001b[33mGET /favicon.ico HTTP/1.1\u001b[0m\" 404 -\n",
            "INFO:werkzeug:127.0.0.1 - - [03/Jul/2025 04:09:04] \"POST / HTTP/1.1\" 200 -\n",
            "INFO:werkzeug:127.0.0.1 - - [03/Jul/2025 04:15:27] \"GET / HTTP/1.1\" 200 -\n",
            "INFO:werkzeug:127.0.0.1 - - [03/Jul/2025 04:15:28] \"\u001b[33mGET /favicon.ico HTTP/1.1\u001b[0m\" 404 -\n"
          ]
        },
        {
          "output_type": "stream",
          "name": "stdout",
          "text": [
            "\n",
            "image 1/1 /content/static/uploads/sapidanburung.jpg: 448x640 1 bird, 459.3ms\n",
            "Speed: 28.2ms preprocess, 459.3ms inference, 37.0ms postprocess per image at shape (1, 3, 448, 640)\n"
          ]
        },
        {
          "output_type": "stream",
          "name": "stderr",
          "text": [
            "INFO:werkzeug:127.0.0.1 - - [03/Jul/2025 04:19:03] \"POST / HTTP/1.1\" 200 -\n",
            "INFO:werkzeug:127.0.0.1 - - [03/Jul/2025 04:19:03] \"GET /static/outputs/output_sapidanburung.jpg HTTP/1.1\" 200 -\n"
          ]
        }
      ],
      "source": [
        "!./cloudflared tunnel --url http://localhost:5000\n"
      ]
    }
  ],
  "metadata": {
    "colab": {
      "provenance": [],
      "include_colab_link": true
    },
    "kernelspec": {
      "display_name": "Python 3",
      "name": "python3"
    },
    "language_info": {
      "name": "python"
    }
  },
  "nbformat": 4,
  "nbformat_minor": 0
}