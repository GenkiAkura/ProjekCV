{
  "cells": [
    {
      "cell_type": "markdown",
      "metadata": {
        "id": "view-in-github",
        "colab_type": "text"
      },
      "source": [
        "<a href=\"https://colab.research.google.com/github/GenkiAkura/ProjekCV/blob/main/UTS_IbnuRezki_Fahrezii_4TIE.ipynb\" target=\"_parent\"><img src=\"https://colab.research.google.com/assets/colab-badge.svg\" alt=\"Open In Colab\"/></a>"
      ]
    },
    {
      "cell_type": "code",
      "execution_count": 1,
      "metadata": {
        "id": "45SYVYj3IJAP",
        "colab": {
          "base_uri": "https://localhost:8080/"
        },
        "outputId": "edd5ccc2-baaf-482e-9e2a-4c2e7ac9fa6c"
      },
      "outputs": [
        {
          "output_type": "stream",
          "name": "stdout",
          "text": [
            "\u001b[2K   \u001b[90m━━━━━━━━━━━━━━━━━━━━━━━━━━━━━━━━━━━━━━━━\u001b[0m \u001b[32m1.0/1.0 MB\u001b[0m \u001b[31m22.0 MB/s\u001b[0m eta \u001b[36m0:00:00\u001b[0m\n",
            "\u001b[2K   \u001b[90m━━━━━━━━━━━━━━━━━━━━━━━━━━━━━━━━━━━━━━━━\u001b[0m \u001b[32m363.4/363.4 MB\u001b[0m \u001b[31m4.3 MB/s\u001b[0m eta \u001b[36m0:00:00\u001b[0m\n",
            "\u001b[2K   \u001b[90m━━━━━━━━━━━━━━━━━━━━━━━━━━━━━━━━━━━━━━━━\u001b[0m \u001b[32m13.8/13.8 MB\u001b[0m \u001b[31m86.3 MB/s\u001b[0m eta \u001b[36m0:00:00\u001b[0m\n",
            "\u001b[2K   \u001b[90m━━━━━━━━━━━━━━━━━━━━━━━━━━━━━━━━━━━━━━━━\u001b[0m \u001b[32m24.6/24.6 MB\u001b[0m \u001b[31m67.3 MB/s\u001b[0m eta \u001b[36m0:00:00\u001b[0m\n",
            "\u001b[2K   \u001b[90m━━━━━━━━━━━━━━━━━━━━━━━━━━━━━━━━━━━━━━━━\u001b[0m \u001b[32m883.7/883.7 kB\u001b[0m \u001b[31m53.3 MB/s\u001b[0m eta \u001b[36m0:00:00\u001b[0m\n",
            "\u001b[2K   \u001b[90m━━━━━━━━━━━━━━━━━━━━━━━━━━━━━━━━━━━━━━━━\u001b[0m \u001b[32m664.8/664.8 MB\u001b[0m \u001b[31m1.3 MB/s\u001b[0m eta \u001b[36m0:00:00\u001b[0m\n",
            "\u001b[2K   \u001b[90m━━━━━━━━━━━━━━━━━━━━━━━━━━━━━━━━━━━━━━━━\u001b[0m \u001b[32m211.5/211.5 MB\u001b[0m \u001b[31m5.5 MB/s\u001b[0m eta \u001b[36m0:00:00\u001b[0m\n",
            "\u001b[2K   \u001b[90m━━━━━━━━━━━━━━━━━━━━━━━━━━━━━━━━━━━━━━━━\u001b[0m \u001b[32m56.3/56.3 MB\u001b[0m \u001b[31m13.0 MB/s\u001b[0m eta \u001b[36m0:00:00\u001b[0m\n",
            "\u001b[2K   \u001b[90m━━━━━━━━━━━━━━━━━━━━━━━━━━━━━━━━━━━━━━━━\u001b[0m \u001b[32m127.9/127.9 MB\u001b[0m \u001b[31m7.4 MB/s\u001b[0m eta \u001b[36m0:00:00\u001b[0m\n",
            "\u001b[2K   \u001b[90m━━━━━━━━━━━━━━━━━━━━━━━━━━━━━━━━━━━━━━━━\u001b[0m \u001b[32m207.5/207.5 MB\u001b[0m \u001b[31m5.5 MB/s\u001b[0m eta \u001b[36m0:00:00\u001b[0m\n",
            "\u001b[2K   \u001b[90m━━━━━━━━━━━━━━━━━━━━━━━━━━━━━━━━━━━━━━━━\u001b[0m \u001b[32m21.1/21.1 MB\u001b[0m \u001b[31m76.1 MB/s\u001b[0m eta \u001b[36m0:00:00\u001b[0m\n",
            "\u001b[?25hCreating new Ultralytics Settings v0.0.6 file ✅ \n",
            "View Ultralytics Settings with 'yolo settings' or at '/root/.config/Ultralytics/settings.json'\n",
            "Update Settings with 'yolo settings key=value', i.e. 'yolo settings runs_dir=path/to/dir'. For help see https://docs.ultralytics.com/quickstart/#ultralytics-settings.\n"
          ]
        }
      ],
      "source": [
        "!pip install ultralytics flask pyngrok opencv-python-headless --quiet\n",
        "# Menginstall pustaka Python yang diperlukan seperti ultralytics, flask, pyngrok, dan opencv-python-headless menggunakan pip, dengan flag --quiet untuk menyembunyikan output detail.\n",
        "\n",
        "from ultralytics import YOLO\n",
        "# Mengimpor kelas YOLO dari pustaka ultralytics untuk penggunaan model deteksi objek.\n",
        "\n",
        "import cv2\n",
        "# Mengimpor pustaka OpenCV (cv2) untuk pemrosesan gambar dan video.\n",
        "\n",
        "import numpy as np\n",
        "# Mengimpor pustaka NumPy sebagai np untuk operasi numerik dan array.\n",
        "\n",
        "import os\n",
        "# Mengimpor pustaka os untuk berinteraksi dengan sistem operasi, seperti mengelola file dan direktori.\n",
        "\n",
        "from pyngrok import ngrok\n",
        "# Mengimpor modul ngrok dari pustaka pyngrok untuk membuat terowongan aman ke aplikasi lokal."
      ]
    },
    {
      "cell_type": "code",
      "execution_count": null,
      "metadata": {
        "id": "jgaEGnMf_UFh"
      },
      "outputs": [],
      "source": [
        "!pip install flask pyngrok --quiet\n"
      ]
    },
    {
      "cell_type": "code",
      "execution_count": 2,
      "metadata": {
        "id": "IQW4DxUCUERx"
      },
      "outputs": [],
      "source": [
        "# Fungsi untuk memproses gambar\n",
        "def process_image(image_path, output_path):\n",
        "    # Membaca gambar dari path yang diberikan menggunakan OpenCV\n",
        "    img = cv2.imread(image_path)\n",
        "    # Mengonversi warna gambar dari BGR ke RGB\n",
        "    img = cv2.cvtColor(img, cv2.COLOR_BGR2RGB)\n",
        "\n",
        "    # Melakukan deteksi objek pada gambar menggunakan model\n",
        "    results = model(image_path)\n",
        "\n",
        "    # Iterasi melalui setiap hasil deteksi\n",
        "    for result in results:\n",
        "        boxes = result.boxes\n",
        "        # Iterasi melalui setiap kotak deteksi\n",
        "        for box in boxes:\n",
        "            x1, y1, x2, y2 = map(int, box.xyxy[0])\n",
        "            # Mendapatkan nilai kepercayaan (confidence) dari deteksi\n",
        "            confidence = box.conf[0].item()\n",
        "            # Mendapatkan ID kelas dari deteksi\n",
        "            class_id = int(box.cls[0].item())\n",
        "            # Mendapatkan label berdasarkan ID kelas dari model\n",
        "            label = model.names[class_id]\n",
        "\n",
        "            # Memeriksa jika label adalah 'bird'\n",
        "            if label == 'bird':\n",
        "                # Menggambar kotak persegi panjang di sekitar objek yang terdeteksi\n",
        "                cv2.rectangle(img, (x1, y1), (x2, y2), (0, 255, 0), 2)\n",
        "                # Menambahkan teks label dan kepercayaan di atas kotak\n",
        "                cv2.putText(img, f'{label} {confidence:.2f}', (x1, y1 - 10),\n",
        "                           cv2.FONT_HERSHEY_SIMPLEX, 0.5, (0, 255, 0), 2)\n",
        "\n",
        "    # Menyimpan gambar yang telah diproses ke path output dengan konversi kembali ke BGR\n",
        "    cv2.imwrite(output_path, cv2.cvtColor(img, cv2.COLOR_RGB2BGR))\n",
        "    # Mengembalikan path gambar yang telah diproses\n",
        "    return output_path"
      ]
    },
    {
      "cell_type": "code",
      "execution_count": 3,
      "metadata": {
        "id": "B1DRJ73mUOuO"
      },
      "outputs": [],
      "source": [
        "# Fungsi untuk memproses video\n",
        "def process_video(video_path, output_path):\n",
        "    # Membuka video dari path yang diberikan menggunakan OpenCV\n",
        "    cap = cv2.VideoCapture(video_path)\n",
        "    # Mendapatkan lebar frame dari video\n",
        "    frame_width = int(cap.get(cv2.CAP_PROP_FRAME_WIDTH))\n",
        "    # Mendapatkan tinggi frame dari video\n",
        "    frame_height = int(cap.get(cv2.CAP_PROP_FRAME_HEIGHT))\n",
        "    # Mendapatkan frame rate (FPS) dari video\n",
        "    fps = cap.get(cv2.CAP_PROP_FPS)\n",
        "\n",
        "    # Mengatur codec video untuk output (mp4v)\n",
        "    fourcc = cv2.VideoWriter_fourcc(*'mp4v')\n",
        "    # Membuat objek VideoWriter untuk menyimpan video yang telah diproses\n",
        "    out = cv2.VideoWriter(output_path, fourcc, fps, (frame_width, frame_height))\n",
        "\n",
        "    # Memproses video frame demi frame selama video masih terbuka\n",
        "    while cap.isOpened():\n",
        "        ret, frame = cap.read()\n",
        "        # Menghentikan loop jika tidak ada frame lagi\n",
        "        if not ret:\n",
        "            break\n",
        "\n",
        "        # Melakukan deteksi objek pada frame menggunakan model\n",
        "        results = model(frame)\n",
        "\n",
        "        # Iterasi melalui setiap hasil deteksi\n",
        "        for r in results:\n",
        "            for box in r.boxes:\n",
        "                cls = int(box.cls[0])\n",
        "                # Mendapatkan label berdasarkan ID kelas dari model\n",
        "                label = model.names[cls]\n",
        "                # Memeriksa jika label adalah 'bird'\n",
        "                if label == 'bird':\n",
        "                    x1, y1, x2, y2 = map(int, box.xyxy[0])\n",
        "                    conf = float(box.conf[0])\n",
        "                    # Menggambar kotak persegi panjang di sekitar objek yang terdeteksi\n",
        "                    cv2.rectangle(frame, (x1, y1), (x2, y2), (0, 255, 0), 2)\n",
        "                    # Menambahkan teks label dan kepercayaan di atas kotak\n",
        "                    cv2.putText(frame, f'{label} {conf:.2f}', (x1, y1 - 10),\n",
        "                               cv2.FONT_HERSHEY_SIMPLEX, 0.6, (0, 255, 0), 2)\n",
        "\n",
        "        # Menulis frame yang telah diproses ke file output\n",
        "        out.write(frame)\n",
        "\n",
        "    # Melepaskan objek VideoCapture\n",
        "    cap.release()\n",
        "    # Melepaskan objek VideoWriter\n",
        "    out.release()\n",
        "    # Mengembalikan path video yang telah diproses\n",
        "    return output_path"
      ]
    },
    {
      "cell_type": "code",
      "execution_count": 4,
      "metadata": {
        "id": "nJSgBIYyB1ZV"
      },
      "outputs": [],
      "source": [
        "!wget -q https://github.com/cloudflare/cloudflared/releases/latest/download/cloudflared-linux-amd64 -O cloudflared\n",
        "!chmod +x cloudflared\n"
      ]
    },
    {
      "cell_type": "code",
      "execution_count": 7,
      "metadata": {
        "id": "QufTdJ0EUQWI",
        "colab": {
          "base_uri": "https://localhost:8080/"
        },
        "outputId": "a413fe56-e6ff-44ba-a305-786bd427e2da"
      },
      "outputs": [
        {
          "output_type": "stream",
          "name": "stdout",
          "text": [
            " * Serving Flask app '__main__'\n",
            " * Debug mode: off\n"
          ]
        },
        {
          "output_type": "stream",
          "name": "stderr",
          "text": [
            "Address already in use\n",
            "Port 5000 is in use by another program. Either identify and stop that program, or start the server with a different port.\n"
          ]
        }
      ],
      "source": [
        "from flask import Flask, request, render_template_string, send_file\n",
        "import os\n",
        "from threading import Thread\n",
        "from ultralytics import YOLO\n",
        "\n",
        "app = Flask(__name__)\n",
        "\n",
        "# Load model YOLOv8\n",
        "model = YOLO(\"yolov8n.pt\")  # Gunakan model custom jika ada\n",
        "\n",
        "HTML_TEMPLATE = \"\"\"\n",
        "<!DOCTYPE html>\n",
        "<html lang=\"en\">\n",
        "<head>\n",
        "    <meta charset=\"UTF-8\">\n",
        "    <meta name=\"viewport\" content=\"width=device-width, initial-scale=1.0\">\n",
        "    <title>YOLOv8 Bird Detector</title>\n",
        "    <link href=\"https://cdn.jsdelivr.net/npm/bootstrap@5.3.0/dist/css/bootstrap.min.css\" rel=\"stylesheet\">\n",
        "    <style>\n",
        "        body {\n",
        "            background-color: #f8f9fa;\n",
        "            font-family: 'Arial', sans-serif;\n",
        "        }\n",
        "        .container {\n",
        "            max-width: 800px;\n",
        "            margin-top: 50px;\n",
        "        }\n",
        "        .card {\n",
        "            border-radius: 15px;\n",
        "            box-shadow: 0 4px 8px rgba(0, 0, 0, 0.1);\n",
        "            padding: 20px;\n",
        "        }\n",
        "        .btn-custom {\n",
        "            background-color: #007bff;\n",
        "            color: white;\n",
        "            transition: background-color 0.3s;\n",
        "        }\n",
        "        .btn-custom:hover {\n",
        "            background-color: #0056b3;\n",
        "        }\n",
        "        .error-message {\n",
        "            color: #dc3545;\n",
        "            font-weight: bold;\n",
        "        }\n",
        "        .output-media {\n",
        "            max-width: 100%;\n",
        "            height: auto;\n",
        "            border-radius: 10px;\n",
        "            margin-top: 20px;\n",
        "        }\n",
        "        .download-link {\n",
        "            margin-top: 15px;\n",
        "            display: inline-block;\n",
        "            text-decoration: none;\n",
        "            color: #007bff;\n",
        "            font-weight: bold;\n",
        "        }\n",
        "        .download-link:hover {\n",
        "            text-decoration: underline;\n",
        "        }\n",
        "        @media (max-width: 576px) {\n",
        "            .container {\n",
        "                margin-top: 20px;\n",
        "                padding: 15px;\n",
        "            }\n",
        "            .card {\n",
        "                padding: 15px;\n",
        "            }\n",
        "        }\n",
        "    </style>\n",
        "</head>\n",
        "<body>\n",
        "    <div class=\"container\">\n",
        "        <div class=\"card\">\n",
        "            <h2 class=\"text-center mb-4\">YOLOv8 Bird Detector</h2>\n",
        "            <form method=\"post\" enctype=\"multipart/form-data\">\n",
        "                <div class=\"mb-3\">\n",
        "                    <label for=\"fileInput\" class=\"form-label\">Upload Image or Video</label>\n",
        "                    <input type=\"file\" class=\"form-control\" id=\"fileInput\" name=\"file\" accept=\".jpg,.jpeg,.png,.mp4\">\n",
        "                </div>\n",
        "                <button type=\"submit\" class=\"btn btn-custom w-100\">Detect Birds</button>\n",
        "            </form>\n",
        "\n",
        "            {% if error %}\n",
        "                <p class=\"error-message text-center mt-3\">{{ error }}</p>\n",
        "            {% endif %}\n",
        "\n",
        "            {% if output_path %}\n",
        "                <div class=\"text-center\">\n",
        "                    {% if is_image %}\n",
        "                        <img src=\"{{ output_path }}\" class=\"output-media\" alt=\"Detection Result\">\n",
        "                    {% else %}\n",
        "                        <video class=\"output-media\" controls>\n",
        "                            <source src=\"{{ output_path }}\" type=\"video/mp4\">\n",
        "                            Your browser does not support the video tag.\n",
        "                        </video>\n",
        "                    {% endif %}\n",
        "                    <p><a href=\"{{ output_path }}\" class=\"download-link\" download>Download Result</a></p>\n",
        "                </div>\n",
        "            {% endif %}\n",
        "        </div>\n",
        "    </div>\n",
        "    <script src=\"https://cdn.jsdelivr.net/npm/bootstrap@5.3.0/dist/js/bootstrap.bundle.min.js\"></script>\n",
        "</body>\n",
        "</html>\n",
        "\"\"\"\n",
        "\n",
        "def process_image(input_path, output_path):\n",
        "    # Hanya deteksi class 'bird' (COCO ID 14)\n",
        "    results = model(input_path, classes=[14])\n",
        "\n",
        "    # Cek apakah burung terdeteksi\n",
        "    if results[0].boxes is None or len(results[0].boxes.cls) == 0:\n",
        "        raise ValueError(\"Tidak ada burung yang terdeteksi.\")\n",
        "\n",
        "    # Simpan hasil deteksi ke file\n",
        "    results[0].save(filename=output_path)\n",
        "\n",
        "def process_video(input_path, output_path):\n",
        "    # Deteksi hanya 'bird' class (class_id 14)\n",
        "    results = model.predict(source=input_path, save=True, classes=[14])\n",
        "\n",
        "    # Cari file hasil dari folder YOLO\n",
        "    pred_dir = 'runs/detect/predict'\n",
        "    for file in os.listdir(pred_dir):\n",
        "        if file.endswith(\".mp4\"):\n",
        "            os.rename(os.path.join(pred_dir, file), output_path)\n",
        "            break\n",
        "    else:\n",
        "        raise ValueError(\"Tidak ada burung yang terdeteksi di video.\")\n",
        "\n",
        "@app.route('/', methods=['GET', 'POST'])\n",
        "def index():\n",
        "    if request.method == 'POST':\n",
        "        file = request.files.get('file')\n",
        "        if not file or file.filename == '':\n",
        "            return render_template_string(HTML_TEMPLATE, error=\"File tidak ditemukan\")\n",
        "        ext = file.filename.lower().split('.')[-1]\n",
        "        if ext not in ['jpg', 'jpeg', 'png', 'mp4']:\n",
        "            return render_template_string(HTML_TEMPLATE, error=\"Format tidak didukung\")\n",
        "\n",
        "        # Buat folder jika belum ada\n",
        "        os.makedirs('static/uploads', exist_ok=True)\n",
        "        os.makedirs('static/outputs', exist_ok=True)\n",
        "\n",
        "        input_path = f'static/uploads/{file.filename}'\n",
        "        output_path = f'static/outputs/output_{file.filename}'\n",
        "        file.save(input_path)\n",
        "        is_image = ext in ['jpg', 'jpeg', 'png']\n",
        "\n",
        "        try:\n",
        "            if is_image:\n",
        "                process_image(input_path, output_path)\n",
        "            else:\n",
        "                process_video(input_path, output_path)\n",
        "        except Exception as e:\n",
        "            return render_template_string(HTML_TEMPLATE, error=f\"Error: {str(e)}\")\n",
        "\n",
        "        return render_template_string(HTML_TEMPLATE, output_path='/' + output_path, is_image=is_image)\n",
        "\n",
        "    return render_template_string(HTML_TEMPLATE)\n",
        "\n",
        "@app.route('/static/<path:filename>')\n",
        "def serve_static(filename):\n",
        "    return send_file(os.path.join('static', filename))\n",
        "\n",
        "# Jalankan Flask\n",
        "def run():\n",
        "    app.run(host='0.0.0.0', port=5000)\n",
        "\n",
        "if __name__ == '__main__':\n",
        "    Thread(target=run).start()"
      ]
    },
    {
      "cell_type": "code",
      "execution_count": null,
      "metadata": {
        "colab": {
          "base_uri": "https://localhost:8080/"
        },
        "id": "AYGxqVAGABxZ",
        "outputId": "f9a4702a-a3b3-49a4-9750-c866f56936ed"
      },
      "outputs": [
        {
          "metadata": {
            "tags": null
          },
          "name": "stdout",
          "output_type": "stream",
          "text": [
            "\u001b[90m2025-07-03T04:50:40Z\u001b[0m \u001b[32mINF\u001b[0m Thank you for trying Cloudflare Tunnel. Doing so, without a Cloudflare account, is a quick way to experiment and try it out. However, be aware that these account-less Tunnels have no uptime guarantee, are subject to the Cloudflare Online Services Terms of Use (https://www.cloudflare.com/website-terms/), and Cloudflare reserves the right to investigate your use of Tunnels for violations of such terms. If you intend to use Tunnels in production you should use a pre-created named tunnel by following: https://developers.cloudflare.com/cloudflare-one/connections/connect-apps\n",
            "\u001b[90m2025-07-03T04:50:40Z\u001b[0m \u001b[32mINF\u001b[0m Requesting new quick Tunnel on trycloudflare.com...\n",
            "\u001b[90m2025-07-03T04:50:44Z\u001b[0m \u001b[32mINF\u001b[0m +--------------------------------------------------------------------------------------------+\n",
            "\u001b[90m2025-07-03T04:50:44Z\u001b[0m \u001b[32mINF\u001b[0m |  Your quick Tunnel has been created! Visit it at (it may take some time to be reachable):  |\n",
            "\u001b[90m2025-07-03T04:50:44Z\u001b[0m \u001b[32mINF\u001b[0m |  https://actions-realm-acrylic-approved.trycloudflare.com                                  |\n",
            "\u001b[90m2025-07-03T04:50:44Z\u001b[0m \u001b[32mINF\u001b[0m +--------------------------------------------------------------------------------------------+\n",
            "\u001b[90m2025-07-03T04:50:44Z\u001b[0m \u001b[32mINF\u001b[0m Cannot determine default configuration path. No file [config.yml config.yaml] in [~/.cloudflared ~/.cloudflare-warp ~/cloudflare-warp /etc/cloudflared /usr/local/etc/cloudflared]\n",
            "\u001b[90m2025-07-03T04:50:44Z\u001b[0m \u001b[32mINF\u001b[0m Version 2025.6.1 (Checksum 103ff020ffcc4ad6b542948b95ecff417150c70a17bff3a39ac2670b4159c9bb)\n",
            "\u001b[90m2025-07-03T04:50:44Z\u001b[0m \u001b[32mINF\u001b[0m GOOS: linux, GOVersion: go1.24.2, GoArch: amd64\n",
            "\u001b[90m2025-07-03T04:50:44Z\u001b[0m \u001b[32mINF\u001b[0m Settings: map[ha-connections:1 protocol:quic url:http://localhost:5000]\n",
            "\u001b[90m2025-07-03T04:50:44Z\u001b[0m \u001b[32mINF\u001b[0m cloudflared will not automatically update when run from the shell. To enable auto-updates, run cloudflared as a service: https://developers.cloudflare.com/cloudflare-one/connections/connect-apps/configure-tunnels/local-management/as-a-service/\n",
            "\u001b[90m2025-07-03T04:50:44Z\u001b[0m \u001b[32mINF\u001b[0m Generated Connector ID: ee5c3a50-1012-4b3b-9120-7b153141c197\n",
            "\u001b[90m2025-07-03T04:50:44Z\u001b[0m \u001b[32mINF\u001b[0m Initial protocol quic\n",
            "\u001b[90m2025-07-03T04:50:44Z\u001b[0m \u001b[32mINF\u001b[0m ICMP proxy will use 172.28.0.12 as source for IPv4\n",
            "\u001b[90m2025-07-03T04:50:44Z\u001b[0m \u001b[32mINF\u001b[0m ICMP proxy will use :: as source for IPv6\n",
            "\u001b[90m2025-07-03T04:50:44Z\u001b[0m \u001b[32mINF\u001b[0m ICMP proxy will use 172.28.0.12 as source for IPv4\n",
            "\u001b[90m2025-07-03T04:50:44Z\u001b[0m \u001b[32mINF\u001b[0m ICMP proxy will use :: as source for IPv6\n",
            "\u001b[90m2025-07-03T04:50:44Z\u001b[0m \u001b[32mINF\u001b[0m Starting metrics server on 127.0.0.1:20241/metrics\n",
            "\u001b[90m2025-07-03T04:50:44Z\u001b[0m \u001b[32mINF\u001b[0m Tunnel connection curve preferences: [X25519MLKEM768 CurveID(25497) CurveP256] \u001b[36mconnIndex=\u001b[0m0 \u001b[36mevent=\u001b[0m0 \u001b[36mip=\u001b[0m198.41.192.7\n",
            "2025/07/03 04:50:44 failed to sufficiently increase receive buffer size (was: 208 kiB, wanted: 7168 kiB, got: 416 kiB). See https://github.com/quic-go/quic-go/wiki/UDP-Buffer-Sizes for details.\n",
            "\u001b[90m2025-07-03T04:50:44Z\u001b[0m \u001b[32mINF\u001b[0m Registered tunnel connection \u001b[36mconnIndex=\u001b[0m0 \u001b[36mconnection=\u001b[0m67ef0c8a-49ef-46c4-a45e-c19c245db9ba \u001b[36mevent=\u001b[0m0 \u001b[36mip=\u001b[0m198.41.192.7 \u001b[36mlocation=\u001b[0mlax05 \u001b[36mprotocol=\u001b[0mquic\n"
          ]
        },
        {
          "metadata": {
            "tags": null
          },
          "name": "stderr",
          "output_type": "stream",
          "text": [
            "INFO:werkzeug:127.0.0.1 - - [03/Jul/2025 04:50:55] \"GET / HTTP/1.1\" 200 -\n",
            "INFO:werkzeug:127.0.0.1 - - [03/Jul/2025 04:50:56] \"\u001b[33mGET /favicon.ico HTTP/1.1\u001b[0m\" 404 -\n"
          ]
        },
        {
          "metadata": {
            "tags": null
          },
          "name": "stdout",
          "output_type": "stream",
          "text": [
            "\n",
            "image 1/1 /content/static/uploads/burung dan sapi.jpg: 448x640 1 bird, 58.1ms\n",
            "Speed: 3.7ms preprocess, 58.1ms inference, 2.1ms postprocess per image at shape (1, 3, 448, 640)\n"
          ]
        },
        {
          "metadata": {
            "tags": null
          },
          "name": "stderr",
          "output_type": "stream",
          "text": [
            "INFO:werkzeug:127.0.0.1 - - [03/Jul/2025 04:51:07] \"POST / HTTP/1.1\" 200 -\n",
            "INFO:werkzeug:127.0.0.1 - - [03/Jul/2025 04:51:08] \"GET /static/outputs/output_burung%20dan%20sapi.jpg HTTP/1.1\" 200 -\n"
          ]
        },
        {
          "metadata": {
            "tags": null
          },
          "name": "stdout",
          "output_type": "stream",
          "text": [
            "\n",
            "image 1/1 /content/static/uploads/burungsapiii2.jpg: 512x640 1 bird, 41.6ms\n",
            "Speed: 3.5ms preprocess, 41.6ms inference, 2.5ms postprocess per image at shape (1, 3, 512, 640)\n"
          ]
        },
        {
          "metadata": {
            "tags": null
          },
          "name": "stderr",
          "output_type": "stream",
          "text": [
            "INFO:werkzeug:127.0.0.1 - - [03/Jul/2025 04:54:18] \"POST / HTTP/1.1\" 200 -\n",
            "INFO:werkzeug:127.0.0.1 - - [03/Jul/2025 04:54:18] \"GET /static/outputs/output_burungsapiii2.jpg HTTP/1.1\" 200 -\n"
          ]
        }
      ],
      "source": [
        "!./cloudflared tunnel --url http://localhost:5000\n"
      ]
    }
  ],
  "metadata": {
    "colab": {
      "provenance": [],
      "gpuType": "T4",
      "include_colab_link": true
    },
    "kernelspec": {
      "display_name": "Python 3",
      "name": "python3"
    },
    "language_info": {
      "name": "python"
    },
    "accelerator": "GPU"
  },
  "nbformat": 4,
  "nbformat_minor": 0
}